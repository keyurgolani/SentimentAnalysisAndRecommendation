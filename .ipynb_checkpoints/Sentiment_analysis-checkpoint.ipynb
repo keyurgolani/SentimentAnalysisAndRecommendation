{
 "cells": [
  {
   "cell_type": "markdown",
   "metadata": {
    "deletable": true,
    "editable": true
   },
   "source": [
    "# MOVIE REVIEWS SENTIMENT ANALYSIS"
   ]
  },
  {
   "cell_type": "code",
   "execution_count": null,
   "metadata": {
    "collapsed": true,
    "deletable": true,
    "editable": true
   },
   "outputs": [],
   "source": [
    "#Python 3\n",
    "import re #Please check that you have these!\n",
    "from os import listdir"
   ]
  },
  {
   "cell_type": "code",
   "execution_count": null,
   "metadata": {
    "collapsed": true,
    "deletable": true,
    "editable": true
   },
   "outputs": [],
   "source": [
    "import numpy as np #Only end of recommendation system is affected"
   ]
  },
  {
   "cell_type": "code",
   "execution_count": null,
   "metadata": {
    "collapsed": true,
    "deletable": true,
    "editable": true
   },
   "outputs": [],
   "source": [
    "import matplotlib.pyplot as plt #Only plotting will not work"
   ]
  },
  {
   "cell_type": "markdown",
   "metadata": {
    "collapsed": true,
    "deletable": true,
    "editable": true
   },
   "source": [
    "# Work with a single review"
   ]
  },
  {
   "cell_type": "raw",
   "metadata": {
    "deletable": true,
    "editable": true
   },
   "source": [
    "Movie reviews are taken and adapted from \"Large Movie Review Dataset v1.0\":\n",
    "http://ai.stanford.edu/~amaas/data/sentiment/\n",
    "\n",
    "Folders structure:\n",
    "Practical_NLP\n",
    "|-neg                     #Folder contains all negative reviews\n",
    "   |-0_3_tt0064354.txt    #File name format: [revID]_[score]_[movID].txt\n",
    "   |-1_1_tt0100680.txt\n",
    "   |-\n",
    "|-pos                     #Folder contains all positive revies\n",
    "   |-0_9_tt0453418.txt\n",
    "   |-1_7_tt0453418.txt\n",
    "   |-...\n",
    "|-polarity_words.csv      #File format: word,polarity\n",
    "\n",
    "|-Recommendation.ipynb\n",
    "|-Recommendation.py\n",
    "|-Sentiment_analysis.ipynb\n",
    "|-Sentiment_analysis.py"
   ]
  },
  {
   "cell_type": "code",
   "execution_count": null,
   "metadata": {
    "collapsed": false,
    "deletable": true,
    "editable": true
   },
   "outputs": [],
   "source": [
    "#Open and output each line of a review\n",
    "file1 = 'pos/6_10_tt0100680.txt'\n",
    "f = open(file1,'r')\n",
    "for line in f:\n",
    "    print(line)"
   ]
  },
  {
   "cell_type": "code",
   "execution_count": null,
   "metadata": {
    "collapsed": false,
    "deletable": true,
    "editable": true
   },
   "outputs": [],
   "source": [
    "f = open(file1,'r')\n",
    "words = [] #List of all words in a review\n",
    "for line in f:\n",
    "    line = line.strip()\n",
    "    words = line.split() #Split by spaces\n",
    "    \n",
    "print(sorted(words)) #remained \"word.\" or \"word:\", etc."
   ]
  },
  {
   "cell_type": "code",
   "execution_count": null,
   "metadata": {
    "collapsed": false,
    "deletable": true,
    "editable": true
   },
   "outputs": [],
   "source": [
    "f = open(file1,'r')\n",
    "words = []\n",
    "for line in f:\n",
    "    line = line.strip()\n",
    "    words = re.split(' |, |: |!|\\.|\"|\\'|\\(|\\)|\\?|/|;|>|<',line) \n",
    "    #Split review using all possible punctuations as delimiters\n",
    "    # \"|\" is used to show where each delimiter ends\n",
    "\n",
    "print(sorted(words)) #Same words, inneficient, better a dictionary with a word and its count"
   ]
  },
  {
   "cell_type": "code",
   "execution_count": null,
   "metadata": {
    "collapsed": false,
    "deletable": true,
    "editable": true
   },
   "outputs": [],
   "source": [
    "f = open(file1,'r')\n",
    "vocab = {} #Dictionary: {word1:count1, word2:count2,...}\n",
    "for line in f:\n",
    "    line = line.strip().lower()\n",
    "    words = re.split(' |, |: |!|\\.|\"|\\'|\\(|\\)|\\?|/|;|>|<',line)\n",
    "    for word in words:\n",
    "        if word == '': #No need to have empty strings in the vocabulary\n",
    "            continue\n",
    "        vocab[word]=vocab.get(word,0)+1 #Increment the count of the just seen word\n",
    "\n",
    "print(sorted(vocab))\n",
    "vLen = len(vocab) #Length of vocabulary\n",
    "print(\"The vocabulary contains \",vLen,\" words.\")"
   ]
  },
  {
   "cell_type": "code",
   "execution_count": null,
   "metadata": {
    "collapsed": true,
    "deletable": true,
    "editable": true
   },
   "outputs": [],
   "source": [
    "#The above procedure can be used done with NLTK module\n",
    "from nltk.tokenize import word_tokenize #Load NLTK word_tokenize module\n",
    "#If you got an error - just watch the explanation of the next cell\n",
    "#Resume the work after the next cell"
   ]
  },
  {
   "cell_type": "code",
   "execution_count": null,
   "metadata": {
    "collapsed": false,
    "deletable": true,
    "editable": true
   },
   "outputs": [],
   "source": [
    "f = open(file1,'r')\n",
    "vocab = {}\n",
    "for line in f:\n",
    "    line = line.strip().lower()\n",
    "    words = word_tokenize(line.strip().lower()) #Instead of regular expressions use this to tokenize\n",
    "    for word in words:\n",
    "        if word == '':\n",
    "            continue\n",
    "        vocab[word]=vocab.get(word,0)+1\n",
    "\n",
    "print(sorted(vocab))\n",
    "vLen = len(vocab)\n",
    "print(\"The vocabulary contains \",vLen,\" words.\") \n",
    "#Vocabulary length is different as word_tokenize also included \",\",\".\",\"...\", \n",
    "#but did not tokenize \"story/script\", \"best.this\""
   ]
  },
  {
   "cell_type": "code",
   "execution_count": null,
   "metadata": {
    "collapsed": false,
    "deletable": true,
    "editable": true
   },
   "outputs": [],
   "source": [
    "plt.bar(range(len(vocab)), vocab.values()) #Show counts for each word in our dictionary\n",
    "plt.show() #Most counts are 1"
   ]
  },
  {
   "cell_type": "code",
   "execution_count": null,
   "metadata": {
    "collapsed": false,
    "deletable": true,
    "editable": true
   },
   "outputs": [],
   "source": [
    "top20_vocab = dict(sorted(vocab.items(), key=lambda x: -x[1])[:20]) #Dictionary of the words with the highest count\n",
    "top20_vocab"
   ]
  },
  {
   "cell_type": "code",
   "execution_count": null,
   "metadata": {
    "collapsed": false,
    "deletable": true,
    "editable": true
   },
   "outputs": [],
   "source": [
    "#Bar chart of 20 words with the highest count\n",
    "plt.bar(range(len(top20_vocab)), top20_vocab.values(), align='center')\n",
    "plt.xlim([-1,20])\n",
    "plt.xticks(range(len(top20_vocab)), top20_vocab.keys(), rotation=90)\n",
    "plt.show() #Most polarized words (important for classification) as \"good\" appear only 1 time"
   ]
  },
  {
   "cell_type": "code",
   "execution_count": null,
   "metadata": {
    "collapsed": false,
    "deletable": true,
    "editable": true
   },
   "outputs": [],
   "source": [
    "# Load polarity words, adapted from http://sentiwordnet.isti.cnr.it/\n",
    "f = open('polarity_words_uniq.csv','r')\n",
    "i = 0\n",
    "pol_words = {} #Dictionary of polarity words: {pol_word1:polarity1, pol_word2:polarity2,...}\n",
    "next(f) #Skip header\n",
    "for line in f:\n",
    "    line = line.strip()\n",
    "    line = line.split(',')\n",
    "    pol_words[line[0]] = np.sign(float(line[1])) #+1 is for positive words, -1 is for negative words\n",
    "pol_words"
   ]
  },
  {
   "cell_type": "code",
   "execution_count": null,
   "metadata": {
    "collapsed": false,
    "deletable": true,
    "editable": true
   },
   "outputs": [],
   "source": [
    "pol_words.get('and',None),pol_words.get('love',None),pol_words.get('interesting',None) #Check polarity of several words"
   ]
  },
  {
   "cell_type": "code",
   "execution_count": null,
   "metadata": {
    "collapsed": false,
    "deletable": true,
    "editable": true
   },
   "outputs": [],
   "source": [
    "words = top20_vocab.keys() #List of top20 words\n",
    "counts = top20_vocab.values() #their counts\n",
    "pos = range(len(top20_vocab)) #their positions on a bar chart\n",
    "barWords= plt.bar(pos, counts, align='center', color='w') #make bar chart of counts for all top20 words\n",
    "for i,word in enumerate(words):\n",
    "    polarity = pol_words.get(word,None) #Get polarity of each word\n",
    "    if polarity==1:\n",
    "        barWords[i].set_color('r') #Change the color to \"red\" for positive word\n",
    "    if polarity==-1:\n",
    "        barWords[i].set_color('b') #Change the color to \"blue\" for negative word\n",
    "plt.xlim([-1,20]) #Set the range to display\n",
    "plt.xticks(pos, words, rotation=90) #Add words to the ticks on X axis\n",
    "plt.show() #Most polarized words (important for classification) as \"good\" appear only 1 time"
   ]
  },
  {
   "cell_type": "code",
   "execution_count": null,
   "metadata": {
    "collapsed": false,
    "deletable": true,
    "editable": true
   },
   "outputs": [],
   "source": [
    "# Naive Bayes model:\n",
    "# Type of review is defined by:\n",
    "# the number of positive words - number of negative words\n",
    "# If there are more positive words --> positive review\n",
    "# otherwise --> negative review\n",
    "vote = 0\n",
    "for word in vocab.keys():\n",
    "    polarity = pol_words.get(word,0)\n",
    "    vote += polarity\n",
    "if vote>0:\n",
    "    print(\"Positive review, vote =\",vote)\n",
    "elif vote == 0:\n",
    "    print(\"Neutral review\") #If the number of positive words == number of negative words\n",
    "else:\n",
    "    print(\"Negative review, vote =\",vote)"
   ]
  },
  {
   "cell_type": "code",
   "execution_count": null,
   "metadata": {
    "collapsed": false,
    "deletable": true,
    "editable": true
   },
   "outputs": [],
   "source": [
    "# The above analysis is combined in this cell.\n",
    "# For a single review\n",
    "file1 = 'pos/6_10_tt0100680.txt' #Check other \n",
    "f = open(file1,'r')\n",
    "\n",
    "vocab = {}\n",
    "for line in f:\n",
    "    line = line.strip().lower()\n",
    "    words = re.split(' |, |: |!|\\.|\"|\\(|\\)|\\?|/|;|>|<',line)\n",
    "    for word in words:\n",
    "        if word == '':\n",
    "            continue\n",
    "        vocab[word]=vocab.get(word,0)+1\n",
    "\n",
    "vLen = len(vocab)\n",
    "top20_vocab = dict(sorted(vocab.items(), key=lambda x: -x[1])[:20])\n",
    "\n",
    "counts = top20_vocab.values()\n",
    "words = top20_vocab.keys()\n",
    "pos = range(len(top20_vocab))\n",
    "barWords= plt.bar(pos, counts, align='center', color='w')\n",
    "for i,word in enumerate(words):\n",
    "    polarity = pol_words.get(word,None)\n",
    "    if polarity==1:\n",
    "        barWords[i].set_color('r') #Change the color of only the i-th bar\n",
    "    if polarity==-1:\n",
    "        barWords[i].set_color('b')\n",
    "plt.xlim([-1,20])\n",
    "plt.xticks(pos, words, rotation=90)\n",
    "plt.show() #Most polarized words (important for classification) as \"good\" appear only 1 time\n",
    "\n",
    "vote = 0\n",
    "for word in vocab.keys():\n",
    "    polarity = pol_words.get(word,0)\n",
    "    vote += polarity\n",
    "if vote>0:\n",
    "    print(\"Positive review, vote =\",vote)\n",
    "elif vote == 0:\n",
    "    print(\"Neutral review\")\n",
    "else:\n",
    "    print(\"Negative review, vote =\",vote)"
   ]
  },
  {
   "cell_type": "code",
   "execution_count": null,
   "metadata": {
    "collapsed": false,
    "deletable": true,
    "editable": true
   },
   "outputs": [],
   "source": [
    "#For a single review with NLTK\n",
    "file1 = 'pos/6_10_tt0100680.txt'\n",
    "f = open(file1,'r')\n",
    "\n",
    "vocab = {}\n",
    "\n",
    "for line in f:\n",
    "    line = line.strip().lower()\n",
    "    words = word_tokenize(line.strip().lower())\n",
    "    for word in words:\n",
    "        if word == '':\n",
    "            continue\n",
    "        vocab[word]=vocab.get(word,0)+1\n",
    "\n",
    "vLen = len(vocab)\n",
    "top20_vocab = dict(sorted(vocab.items(), key=lambda x: -x[1])[:20])\n",
    "\n",
    "counts = top20_vocab.values()\n",
    "words = top20_vocab.keys()\n",
    "pos = range(len(top20_vocab))\n",
    "barWords= plt.bar(pos, counts, align='center', color='w')\n",
    "for i,word in enumerate(words):\n",
    "    polarity = pol_words.get(word,None)\n",
    "    if polarity==1:\n",
    "        barWords[i].set_color('r') #Change the color of only the i-th bar\n",
    "    if polarity==-1:\n",
    "        barWords[i].set_color('b')\n",
    "plt.xlim([-1,20])\n",
    "plt.xticks(pos, words, rotation=90)\n",
    "plt.show() #Most polarized words (important for classification) as \"good\" appear only 1 time\n",
    "\n",
    "vote = 0\n",
    "for word in vocab.keys():\n",
    "    polarity = pol_words.get(word,0)\n",
    "    vote += polarity\n",
    "if vote>0:\n",
    "    print(\"Positive review, vote =\",vote)\n",
    "elif vote == 0:\n",
    "    print(\"Neutral review\")\n",
    "else:\n",
    "    print(\"Negative review, vote =\",vote)"
   ]
  },
  {
   "cell_type": "code",
   "execution_count": null,
   "metadata": {
    "collapsed": true,
    "deletable": true,
    "editable": true
   },
   "outputs": [],
   "source": []
  },
  {
   "cell_type": "markdown",
   "metadata": {
    "deletable": true,
    "editable": true
   },
   "source": [
    "# Classify all reviews"
   ]
  },
  {
   "cell_type": "code",
   "execution_count": null,
   "metadata": {
    "collapsed": false,
    "deletable": true,
    "editable": true
   },
   "outputs": [],
   "source": [
    "# Using regular expressions for tokenization\n",
    "fold = 'pos/'\n",
    "n_pos = 0 #Number of positive reviews\n",
    "n_files = 0 #Total number of files\n",
    "for file in listdir(fold): #Get the name of each file in fold\n",
    "    n_files += 1\n",
    "    if n_files>5: #Comment this\n",
    "        break     #Comment this\n",
    "    file1 = fold + file\n",
    "    vote = 0 #The total vote for each review\n",
    "    try:\n",
    "        f = open(file1,'r')\n",
    "        for line in f:\n",
    "            print(line) #Comment this\n",
    "            line = line.strip().lower()\n",
    "            words = re.split(' |, |: |!|\\.|\"|\\'|\\(|\\)|\\?|/|;|>|<',line)\n",
    "            for word in words:\n",
    "                polarity = pol_words.get(word,0)\n",
    "                vote += polarity\n",
    "        print('\\n') #Comment this\n",
    "        if vote>0:\n",
    "            print(\"Positive review, vote =\",vote) #Comment this\n",
    "            n_pos += 1\n",
    "        elif vote == 0:\n",
    "            print(\"Neutral review\") #Comment this\n",
    "            pass\n",
    "        else:\n",
    "            print(\"Negative review, vote =\",vote) #Comment this\n",
    "            pass\n",
    "        print('\\n') #Comment this\n",
    "    except:\n",
    "        continue\n",
    "\n",
    "#Check the 4th review with the vote -14. It is indeed difficult to say from the text that this is a positive review.\n",
    "print(\"Classifier accuracy is\",n_pos/n_files)"
   ]
  },
  {
   "cell_type": "code",
   "execution_count": null,
   "metadata": {
    "collapsed": true,
    "deletable": true,
    "editable": true
   },
   "outputs": [],
   "source": []
  }
 ],
 "metadata": {
  "anaconda-cloud": {},
  "kernelspec": {
   "display_name": "Python 2",
   "language": "python",
   "name": "python2"
  },
  "language_info": {
   "codemirror_mode": {
    "name": "ipython",
    "version": 2
   },
   "file_extension": ".py",
   "mimetype": "text/x-python",
   "name": "python",
   "nbconvert_exporter": "python",
   "pygments_lexer": "ipython2",
   "version": "2.7.13"
  }
 },
 "nbformat": 4,
 "nbformat_minor": 2
}
